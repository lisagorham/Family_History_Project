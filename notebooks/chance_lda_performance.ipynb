{
 "cells": [
  {
   "cell_type": "code",
   "execution_count": 4,
   "id": "db2538ce",
   "metadata": {},
   "outputs": [],
   "source": [
    "import pandas as pd\n",
    "import numpy as np\n",
    "from numpy.random import default_rng\n",
    "rng = default_rng()"
   ]
  },
  {
   "cell_type": "code",
   "execution_count": 113,
   "id": "f6966d9c",
   "metadata": {},
   "outputs": [],
   "source": [
    "def mcc(tp, tn, fp, fn):\n",
    "    num = (tp * tn) - (fp * fn)\n",
    "    den = np.sqrt((tp + fp) * (tp + fn) * (tn + fp) * (tn + fn))\n",
    "    return num/den\n",
    "\n",
    "# use examples from https://en.wikipedia.org/wiki/Matthews_correlation_coefficient\n",
    "# to make sure mcc calculation is correct\n",
    "assert mcc(6, 3, 1, 2) == 0.47809144373375745\n",
    "assert mcc(90, 1, 4, 5) == 0.13524203070138519"
   ]
  },
  {
   "cell_type": "code",
   "execution_count": 107,
   "id": "14f658ed",
   "metadata": {},
   "outputs": [],
   "source": [
    "nsims = 10000"
   ]
  },
  {
   "cell_type": "code",
   "execution_count": 117,
   "id": "77e73042",
   "metadata": {},
   "outputs": [
    {
     "data": {
      "text/plain": [
       "50"
      ]
     },
     "execution_count": 117,
     "metadata": {},
     "output_type": "execute_result"
    }
   ],
   "source": [
    "(33 + 2 + 2 + 13)"
   ]
  },
  {
   "cell_type": "code",
   "execution_count": 116,
   "id": "b95923e0",
   "metadata": {},
   "outputs": [
    {
     "data": {
      "text/plain": [
       "77.39999999999999"
      ]
     },
     "execution_count": 116,
     "metadata": {},
     "output_type": "execute_result"
    }
   ],
   "source": [
    "129 * 0.6"
   ]
  },
  {
   "cell_type": "code",
   "execution_count": 108,
   "id": "411482e0",
   "metadata": {},
   "outputs": [
    {
     "name": "stdout",
     "output_type": "stream",
     "text": [
      "50/50 chance\n",
      "mean (95%CI) = -0.00 ([-0.28, 0.27])\n",
      "odds of random generated observed or greater = 0.18\n",
      "\n",
      "data chance: 0.70\n",
      "mean (95%CI) = 0.00 ([-0.27, 0.28])\n",
      "odds of random generated observed or greater = 0.18\n"
     ]
    }
   ],
   "source": [
    "obs_res = {'tp':33, 'tn':2, 'fn':2, 'fp': 13}\n",
    "observed = mcc(**test_res)\n",
    "dat = np.array([1]*35 + [0]*15)\n",
    "res = []\n",
    "for ix in range(nsims):\n",
    "    sim = rng.choice([0,1], len(dat))\n",
    "    sim_res = {}\n",
    "    sim_res['tp'] = ((sim == 1) & (dat == 1)).sum()\n",
    "    sim_res['tn'] = ((sim == 0) & (dat == 0)).sum()\n",
    "    sim_res['fp'] = ((sim == 1) & (dat == 0)).sum()\n",
    "    sim_res['fn'] = ((sim == 0) & (dat == 1)).sum()\n",
    "    res.append((mcc(**sim_res)))\n",
    "res = np.array(res)\n",
    "print(\"50/50 chance\")\n",
    "print(f'mean (95%CI) = {np.mean(res):0.2f} ([{np.percentile(res, 2.5):0.2f}, {np.percentile(res, 97.5):0.2f}])')\n",
    "print(f'odds of random generated observed or greater = {(res >= observed).mean():0.2f}')\n",
    "print()\n",
    "res = []\n",
    "for ix in range(nsims):\n",
    "    sim = rng.choice(dat, len(dat))\n",
    "    sim_res = {}\n",
    "    sim_res['tp'] = ((sim == 1) & (dat == 1)).sum()\n",
    "    sim_res['tn'] = ((sim == 0) & (dat == 0)).sum()\n",
    "    sim_res['fp'] = ((sim == 1) & (dat == 0)).sum()\n",
    "    sim_res['fn'] = ((sim == 0) & (dat == 1)).sum()\n",
    "    res.append((mcc(**sim_res)))\n",
    "res = np.array(res)\n",
    "print(f\"data chance: {dat.mean():0.2f}\")\n",
    "print(f'mean (95%CI) = {np.mean(res):0.2f} ([{np.percentile(res, 2.5):0.2f}, {np.percentile(res, 97.5):0.2f}])')\n",
    "print(f'odds of random generated observed or greater = {(res >= observed).mean():0.2f}')\n"
   ]
  },
  {
   "cell_type": "code",
   "execution_count": 118,
   "id": "d3341dfa",
   "metadata": {},
   "outputs": [
    {
     "data": {
      "text/plain": [
       "0.1286978904175574"
      ]
     },
     "execution_count": 118,
     "metadata": {},
     "output_type": "execute_result"
    }
   ],
   "source": [
    "observed"
   ]
  },
  {
   "cell_type": "code",
   "execution_count": null,
   "id": "f1890145",
   "metadata": {},
   "outputs": [],
   "source": []
  }
 ],
 "metadata": {
  "kernelspec": {
   "display_name": "Python 3 (ipykernel)",
   "language": "python",
   "name": "python3"
  },
  "language_info": {
   "codemirror_mode": {
    "name": "ipython",
    "version": 3
   },
   "file_extension": ".py",
   "mimetype": "text/x-python",
   "name": "python",
   "nbconvert_exporter": "python",
   "pygments_lexer": "ipython3",
   "version": "3.8.10"
  }
 },
 "nbformat": 4,
 "nbformat_minor": 5
}
