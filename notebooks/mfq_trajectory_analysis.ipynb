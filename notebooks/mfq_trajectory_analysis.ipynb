{
 "cells": [
  {
   "cell_type": "code",
   "execution_count": 1,
   "id": "d551cd1f",
   "metadata": {},
   "outputs": [],
   "source": [
    "from pathlib import Path\n",
    "import pandas as pd\n",
    "import numpy as np\n",
    "from sklearn.model_selection import KFold, GroupKFold\n",
    "from sklearn.linear_model import LinearRegression, ElasticNet\n",
    "\n",
    "import seaborn as sns\n",
    "from matplotlib import pyplot as plt\n",
    "import statsmodels.formula.api as smf\n",
    "from pymer4.models import Lmer\n",
    "from scipy import stats\n",
    "import itertools\n",
    "pd.set_option('display.max_columns', 500)\n",
    "%matplotlib inline"
   ]
  },
  {
   "cell_type": "code",
   "execution_count": 7,
   "id": "6b0b20da",
   "metadata": {},
   "outputs": [],
   "source": [
    "mdat = pd.read_csv('../data/MFQAnalysesDatabaseforDylan.csv', index_col=0).reset_index(drop=True)\n",
    "mdat['Clinical_Visit_Date'] = pd.to_datetime(mdat.Clinical_Visit_Date)\n",
    "mdat['PreviousVisitDate'] = pd.to_datetime(mdat.PreviousVisitDate)\n",
    "mdat = mdat.loc[mdat.TimeBetween<800].reset_index(drop=True)\n"
   ]
  },
  {
   "cell_type": "code",
   "execution_count": 16,
   "id": "660f0564",
   "metadata": {},
   "outputs": [],
   "source": [
    "unraveled = []\n",
    "for ss, sdf in mdat.groupby('SDAN'):\n",
    "    sdf = sdf.sort_values('Clinical_Visit_Date').reset_index(drop=True)\n",
    "    bsl_dat = {}\n",
    "    bsl_dat['SDAN'] = ss\n",
    "    bsl_dat['Participant_Type2'] = sdf.Participant_Type2.unique()[0]\n",
    "    bsl_dat['Clinical_Visit_Date'] = sdf.loc[0, 'PreviousVisitDate']\n",
    "    bsl_dat['s_mfq_tot'] = sdf.loc[0, 'MFQtminus1']\n",
    "    bsl_dat['antidepressants'] = sdf.loc[0, 'antidepressants']\n",
    "    bsl_dat['OtherMeds'] = sdf.loc[0, 'OtherMeds']\n",
    "    bsl_dat['InpatientDuring'] = sdf.loc[0, 'InpatientDuring']\n",
    "    bsl_dat['postpandemic'] = sdf.loc[0, 'postpandemic']\n",
    "    bsl_dat['Age_at_visit'] = sdf.loc[0, 'PreviousAge']\n",
    "    bsl_dat['SEX'] = sdf.loc[0, 'SEX']\n",
    "    bsl_dat['dep_immed'] = sdf.dep_immed.unique()[0]\n",
    "    bsl_dat = pd.DataFrame(bsl_dat, index=[0])\n",
    "    sdf = pd.concat((bsl_dat, sdf)).loc[:, sdf.columns]\n",
    "    sdf['bsl_date'] = bsl_dat.Clinical_Visit_Date.values[0]\n",
    "    sdf['visit_ix'] = range(len(sdf))\n",
    "    unraveled.append(sdf)\n",
    "udat = pd.concat(unraveled).reset_index(drop=True)"
   ]
  },
  {
   "cell_type": "code",
   "execution_count": 17,
   "id": "b542ee1b",
   "metadata": {},
   "outputs": [],
   "source": [
    "udat['time_since_bsl'] = ((udat.Clinical_Visit_Date - udat.bsl_date).dt.days)/365.25"
   ]
  },
  {
   "cell_type": "code",
   "execution_count": 19,
   "id": "cd4333f5",
   "metadata": {},
   "outputs": [
    {
     "name": "stdout",
     "output_type": "stream",
     "text": [
      "Formula: s_mfq_tot~dep_immed*time_since_bsl+InpatientDuring+Age_at_visit+SEX+antidepressants+OtherMeds+postpandemic+(time_since_bsl|SDAN)+(1|visit_ix)\n",
      "\n",
      "Family: gaussian\t Inference: parametric\n",
      "\n",
      "Number of observations: 1439\t Groups: {'SDAN': 129.0, 'visit_ix': 40.0}\n",
      "\n",
      "Log-likelihood: -4264.029 \t AIC: 8528.057\n",
      "\n",
      "Random effects:\n",
      "\n",
      "                    Name     Var    Std\n",
      "SDAN         (Intercept)  35.559  5.963\n",
      "SDAN      time_since_bsl   9.049  3.008\n",
      "visit_ix     (Intercept)   0.609  0.780\n",
      "Residual                  15.375  3.921\n",
      "\n",
      "              IV1             IV2   Corr\n",
      "SDAN  (Intercept)  time_since_bsl -0.641\n",
      "\n",
      "Fixed effects:\n",
      "\n"
     ]
    },
    {
     "data": {
      "text/html": [
       "<div>\n",
       "<style scoped>\n",
       "    .dataframe tbody tr th:only-of-type {\n",
       "        vertical-align: middle;\n",
       "    }\n",
       "\n",
       "    .dataframe tbody tr th {\n",
       "        vertical-align: top;\n",
       "    }\n",
       "\n",
       "    .dataframe thead th {\n",
       "        text-align: right;\n",
       "    }\n",
       "</style>\n",
       "<table border=\"1\" class=\"dataframe\">\n",
       "  <thead>\n",
       "    <tr style=\"text-align: right;\">\n",
       "      <th></th>\n",
       "      <th>Estimate</th>\n",
       "      <th>2.5_ci</th>\n",
       "      <th>97.5_ci</th>\n",
       "      <th>SE</th>\n",
       "      <th>DF</th>\n",
       "      <th>T-stat</th>\n",
       "      <th>P-val</th>\n",
       "      <th>Sig</th>\n",
       "    </tr>\n",
       "  </thead>\n",
       "  <tbody>\n",
       "    <tr>\n",
       "      <th>(Intercept)</th>\n",
       "      <td>10.432</td>\n",
       "      <td>1.074</td>\n",
       "      <td>19.789</td>\n",
       "      <td>4.774</td>\n",
       "      <td>122.457</td>\n",
       "      <td>2.185</td>\n",
       "      <td>0.031</td>\n",
       "      <td>*</td>\n",
       "    </tr>\n",
       "    <tr>\n",
       "      <th>dep_immed</th>\n",
       "      <td>1.163</td>\n",
       "      <td>-1.370</td>\n",
       "      <td>3.696</td>\n",
       "      <td>1.292</td>\n",
       "      <td>118.422</td>\n",
       "      <td>0.900</td>\n",
       "      <td>0.370</td>\n",
       "      <td></td>\n",
       "    </tr>\n",
       "    <tr>\n",
       "      <th>time_since_bsl</th>\n",
       "      <td>0.002</td>\n",
       "      <td>-1.458</td>\n",
       "      <td>1.461</td>\n",
       "      <td>0.745</td>\n",
       "      <td>146.973</td>\n",
       "      <td>0.002</td>\n",
       "      <td>0.998</td>\n",
       "      <td></td>\n",
       "    </tr>\n",
       "    <tr>\n",
       "      <th>InpatientDuringTRUE</th>\n",
       "      <td>1.138</td>\n",
       "      <td>0.003</td>\n",
       "      <td>2.273</td>\n",
       "      <td>0.579</td>\n",
       "      <td>1214.325</td>\n",
       "      <td>1.965</td>\n",
       "      <td>0.050</td>\n",
       "      <td>*</td>\n",
       "    </tr>\n",
       "    <tr>\n",
       "      <th>Age_at_visit</th>\n",
       "      <td>0.018</td>\n",
       "      <td>-0.576</td>\n",
       "      <td>0.612</td>\n",
       "      <td>0.303</td>\n",
       "      <td>117.631</td>\n",
       "      <td>0.058</td>\n",
       "      <td>0.954</td>\n",
       "      <td></td>\n",
       "    </tr>\n",
       "    <tr>\n",
       "      <th>SEXMALE</th>\n",
       "      <td>-3.598</td>\n",
       "      <td>-5.590</td>\n",
       "      <td>-1.606</td>\n",
       "      <td>1.016</td>\n",
       "      <td>106.612</td>\n",
       "      <td>-3.540</td>\n",
       "      <td>0.001</td>\n",
       "      <td>***</td>\n",
       "    </tr>\n",
       "    <tr>\n",
       "      <th>antidepressants</th>\n",
       "      <td>0.099</td>\n",
       "      <td>-1.905</td>\n",
       "      <td>2.103</td>\n",
       "      <td>1.023</td>\n",
       "      <td>107.004</td>\n",
       "      <td>0.097</td>\n",
       "      <td>0.923</td>\n",
       "      <td></td>\n",
       "    </tr>\n",
       "    <tr>\n",
       "      <th>OtherMeds</th>\n",
       "      <td>0.606</td>\n",
       "      <td>-1.630</td>\n",
       "      <td>2.842</td>\n",
       "      <td>1.141</td>\n",
       "      <td>104.672</td>\n",
       "      <td>0.531</td>\n",
       "      <td>0.597</td>\n",
       "      <td></td>\n",
       "    </tr>\n",
       "    <tr>\n",
       "      <th>postpandemicTRUE</th>\n",
       "      <td>-0.135</td>\n",
       "      <td>-1.054</td>\n",
       "      <td>0.784</td>\n",
       "      <td>0.469</td>\n",
       "      <td>1323.259</td>\n",
       "      <td>-0.288</td>\n",
       "      <td>0.774</td>\n",
       "      <td></td>\n",
       "    </tr>\n",
       "    <tr>\n",
       "      <th>dep_immed:time_since_bsl</th>\n",
       "      <td>-0.261</td>\n",
       "      <td>-1.718</td>\n",
       "      <td>1.196</td>\n",
       "      <td>0.743</td>\n",
       "      <td>92.442</td>\n",
       "      <td>-0.351</td>\n",
       "      <td>0.726</td>\n",
       "      <td></td>\n",
       "    </tr>\n",
       "  </tbody>\n",
       "</table>\n",
       "</div>"
      ],
      "text/plain": [
       "                          Estimate  2.5_ci  97.5_ci     SE        DF  T-stat  \\\n",
       "(Intercept)                 10.432   1.074   19.789  4.774   122.457   2.185   \n",
       "dep_immed                    1.163  -1.370    3.696  1.292   118.422   0.900   \n",
       "time_since_bsl               0.002  -1.458    1.461  0.745   146.973   0.002   \n",
       "InpatientDuringTRUE          1.138   0.003    2.273  0.579  1214.325   1.965   \n",
       "Age_at_visit                 0.018  -0.576    0.612  0.303   117.631   0.058   \n",
       "SEXMALE                     -3.598  -5.590   -1.606  1.016   106.612  -3.540   \n",
       "antidepressants              0.099  -1.905    2.103  1.023   107.004   0.097   \n",
       "OtherMeds                    0.606  -1.630    2.842  1.141   104.672   0.531   \n",
       "postpandemicTRUE            -0.135  -1.054    0.784  0.469  1323.259  -0.288   \n",
       "dep_immed:time_since_bsl    -0.261  -1.718    1.196  0.743    92.442  -0.351   \n",
       "\n",
       "                          P-val  Sig  \n",
       "(Intercept)               0.031    *  \n",
       "dep_immed                 0.370       \n",
       "time_since_bsl            0.998       \n",
       "InpatientDuringTRUE       0.050    *  \n",
       "Age_at_visit              0.954       \n",
       "SEXMALE                   0.001  ***  \n",
       "antidepressants           0.923       \n",
       "OtherMeds                 0.597       \n",
       "postpandemicTRUE          0.774       \n",
       "dep_immed:time_since_bsl  0.726       "
      ]
     },
     "execution_count": 19,
     "metadata": {},
     "output_type": "execute_result"
    }
   ],
   "source": [
    "model = 's_mfq_tot ~ dep_immed*time_since_bsl + InpatientDuring + Age_at_visit + SEX + antidepressants + OtherMeds + postpandemic + (time_since_bsl | SDAN) + (1|visit_ix)'\n",
    "lmer = Lmer(model, udat)\n",
    "lmer.fit()\n"
   ]
  },
  {
   "cell_type": "code",
   "execution_count": 54,
   "id": "bdaf21e3",
   "metadata": {},
   "outputs": [
    {
     "name": "stdout",
     "output_type": "stream",
     "text": [
      "Formula: s_mfq_tot~time_since_bsl+InpatientDuring+Age_at_visit+SEX+antidepressants+OtherMeds+postpandemic+(time_since_bsl|SDAN)+(1|visit_ix)\n",
      "\n",
      "Family: gaussian\t Inference: parametric\n",
      "\n",
      "Number of observations: 1439\t Groups: {'SDAN': 129.0, 'visit_ix': 40.0}\n",
      "\n",
      "Log-likelihood: -4266.015 \t AIC: 8532.031\n",
      "\n",
      "Random effects:\n",
      "\n",
      "                    Name     Var    Std\n",
      "SDAN         (Intercept)  35.534  5.961\n",
      "SDAN      time_since_bsl   8.939  2.990\n",
      "visit_ix     (Intercept)   0.603  0.777\n",
      "Residual                  15.380  3.922\n",
      "\n",
      "              IV1             IV2   Corr\n",
      "SDAN  (Intercept)  time_since_bsl -0.643\n",
      "\n",
      "Fixed effects:\n",
      "\n"
     ]
    },
    {
     "data": {
      "text/html": [
       "<div>\n",
       "<style scoped>\n",
       "    .dataframe tbody tr th:only-of-type {\n",
       "        vertical-align: middle;\n",
       "    }\n",
       "\n",
       "    .dataframe tbody tr th {\n",
       "        vertical-align: top;\n",
       "    }\n",
       "\n",
       "    .dataframe thead th {\n",
       "        text-align: right;\n",
       "    }\n",
       "</style>\n",
       "<table border=\"1\" class=\"dataframe\">\n",
       "  <thead>\n",
       "    <tr style=\"text-align: right;\">\n",
       "      <th></th>\n",
       "      <th>Estimate</th>\n",
       "      <th>2.5_ci</th>\n",
       "      <th>97.5_ci</th>\n",
       "      <th>SE</th>\n",
       "      <th>DF</th>\n",
       "      <th>T-stat</th>\n",
       "      <th>P-val</th>\n",
       "      <th>Sig</th>\n",
       "    </tr>\n",
       "  </thead>\n",
       "  <tbody>\n",
       "    <tr>\n",
       "      <th>(Intercept)</th>\n",
       "      <td>10.785</td>\n",
       "      <td>1.556</td>\n",
       "      <td>20.014</td>\n",
       "      <td>4.709</td>\n",
       "      <td>119.168</td>\n",
       "      <td>2.290</td>\n",
       "      <td>0.024</td>\n",
       "      <td>*</td>\n",
       "    </tr>\n",
       "    <tr>\n",
       "      <th>time_since_bsl</th>\n",
       "      <td>-0.245</td>\n",
       "      <td>-1.264</td>\n",
       "      <td>0.773</td>\n",
       "      <td>0.520</td>\n",
       "      <td>220.670</td>\n",
       "      <td>-0.472</td>\n",
       "      <td>0.637</td>\n",
       "      <td></td>\n",
       "    </tr>\n",
       "    <tr>\n",
       "      <th>InpatientDuringTRUE</th>\n",
       "      <td>1.133</td>\n",
       "      <td>-0.000</td>\n",
       "      <td>2.266</td>\n",
       "      <td>0.578</td>\n",
       "      <td>1212.301</td>\n",
       "      <td>1.960</td>\n",
       "      <td>0.050</td>\n",
       "      <td>.</td>\n",
       "    </tr>\n",
       "    <tr>\n",
       "      <th>Age_at_visit</th>\n",
       "      <td>0.051</td>\n",
       "      <td>-0.536</td>\n",
       "      <td>0.637</td>\n",
       "      <td>0.299</td>\n",
       "      <td>117.264</td>\n",
       "      <td>0.169</td>\n",
       "      <td>0.866</td>\n",
       "      <td></td>\n",
       "    </tr>\n",
       "    <tr>\n",
       "      <th>SEXMALE</th>\n",
       "      <td>-3.674</td>\n",
       "      <td>-5.657</td>\n",
       "      <td>-1.691</td>\n",
       "      <td>1.012</td>\n",
       "      <td>107.651</td>\n",
       "      <td>-3.632</td>\n",
       "      <td>0.000</td>\n",
       "      <td>***</td>\n",
       "    </tr>\n",
       "    <tr>\n",
       "      <th>antidepressants</th>\n",
       "      <td>0.142</td>\n",
       "      <td>-1.856</td>\n",
       "      <td>2.141</td>\n",
       "      <td>1.020</td>\n",
       "      <td>107.710</td>\n",
       "      <td>0.140</td>\n",
       "      <td>0.889</td>\n",
       "      <td></td>\n",
       "    </tr>\n",
       "    <tr>\n",
       "      <th>OtherMeds</th>\n",
       "      <td>0.603</td>\n",
       "      <td>-1.628</td>\n",
       "      <td>2.834</td>\n",
       "      <td>1.138</td>\n",
       "      <td>105.329</td>\n",
       "      <td>0.530</td>\n",
       "      <td>0.597</td>\n",
       "      <td></td>\n",
       "    </tr>\n",
       "    <tr>\n",
       "      <th>postpandemicTRUE</th>\n",
       "      <td>-0.113</td>\n",
       "      <td>-1.030</td>\n",
       "      <td>0.805</td>\n",
       "      <td>0.468</td>\n",
       "      <td>1323.077</td>\n",
       "      <td>-0.241</td>\n",
       "      <td>0.810</td>\n",
       "      <td></td>\n",
       "    </tr>\n",
       "  </tbody>\n",
       "</table>\n",
       "</div>"
      ],
      "text/plain": [
       "                     Estimate  2.5_ci  97.5_ci     SE        DF  T-stat  \\\n",
       "(Intercept)            10.785   1.556   20.014  4.709   119.168   2.290   \n",
       "time_since_bsl         -0.245  -1.264    0.773  0.520   220.670  -0.472   \n",
       "InpatientDuringTRUE     1.133  -0.000    2.266  0.578  1212.301   1.960   \n",
       "Age_at_visit            0.051  -0.536    0.637  0.299   117.264   0.169   \n",
       "SEXMALE                -3.674  -5.657   -1.691  1.012   107.651  -3.632   \n",
       "antidepressants         0.142  -1.856    2.141  1.020   107.710   0.140   \n",
       "OtherMeds               0.603  -1.628    2.834  1.138   105.329   0.530   \n",
       "postpandemicTRUE       -0.113  -1.030    0.805  0.468  1323.077  -0.241   \n",
       "\n",
       "                     P-val  Sig  \n",
       "(Intercept)          0.024    *  \n",
       "time_since_bsl       0.637       \n",
       "InpatientDuringTRUE  0.050    .  \n",
       "Age_at_visit         0.866       \n",
       "SEXMALE              0.000  ***  \n",
       "antidepressants      0.889       \n",
       "OtherMeds            0.597       \n",
       "postpandemicTRUE     0.810       "
      ]
     },
     "execution_count": 54,
     "metadata": {},
     "output_type": "execute_result"
    }
   ],
   "source": [
    "model = 's_mfq_tot ~ time_since_bsl + InpatientDuring + Age_at_visit + SEX + antidepressants + OtherMeds + postpandemic + (time_since_bsl | SDAN) + (1|visit_ix)'\n",
    "lmer = Lmer(model, udat)\n",
    "lmer.fit()\n"
   ]
  },
  {
   "cell_type": "code",
   "execution_count": 55,
   "id": "c7b0c35f",
   "metadata": {},
   "outputs": [],
   "source": [
    "sub_level_estimates = lmer.fixef[0].reset_index().rename(columns={'index':'SDAN'})\n",
    "sub_level_estimates['SDAN'] = sub_level_estimates.SDAN.astype(int)\n",
    "sub_level_estimates = sub_level_estimates.merge(udat.groupby('SDAN').dep_immed.first(), how='left', on='SDAN', suffixes=('_beta', ''))"
   ]
  },
  {
   "cell_type": "code",
   "execution_count": 56,
   "id": "2a922be6",
   "metadata": {},
   "outputs": [
    {
     "data": {
      "text/plain": [
       "<AxesSubplot:xlabel='time_since_bsl', ylabel='Count'>"
      ]
     },
     "execution_count": 56,
     "metadata": {},
     "output_type": "execute_result"
    },
    {
     "data": {
      "image/png": "[encoded data removed]",
      "text/plain": [
       "<Figure size 432x288 with 1 Axes>"
      ]
     },
     "metadata": {
      "needs_background": "light"
     },
     "output_type": "display_data"
    }
   ],
   "source": [
    "sns.histplot(data=sub_level_estimates, x='time_since_bsl', hue='dep_immed')"
   ]
  },
  {
   "cell_type": "code",
   "execution_count": 61,
   "id": "54eea883",
   "metadata": {},
   "outputs": [
    {
     "data": {
      "text/plain": [
       "Ttest_indResult(statistic=0.48161357856920084, pvalue=0.6319516643204219)"
      ]
     },
     "execution_count": 61,
     "metadata": {},
     "output_type": "execute_result"
    }
   ],
   "source": [
    "nofhd = sub_level_estimates.loc[sub_level_estimates.dep_immed == 0, 'time_since_bsl'].values\n",
    "fhd = sub_level_estimates.loc[sub_level_estimates.dep_immed == 1, 'time_since_bsl'].values\n",
    "stats.ttest_ind(nofhd, fhd, equal_var=False)"
   ]
  },
  {
   "cell_type": "code",
   "execution_count": 62,
   "id": "3eda51d6",
   "metadata": {},
   "outputs": [
    {
     "data": {
      "text/plain": [
       "129"
      ]
     },
     "execution_count": 62,
     "metadata": {},
     "output_type": "execute_result"
    }
   ],
   "source": [
    "len(sub_level_estimates)"
   ]
  },
  {
   "cell_type": "code",
   "execution_count": 58,
   "id": "0a2c7d7a",
   "metadata": {},
   "outputs": [],
   "source": [
    "sub_level_estimates['traj_class'] = 'flat'\n",
    "sub_level_estimates.loc[sub_level_estimates.time_since_bsl < -0.5, 'traj_class'] = 'improving'\n",
    "sub_level_estimates.loc[sub_level_estimates.time_since_bsl > 0.5, 'traj_class'] = 'worsening'"
   ]
  },
  {
   "cell_type": "code",
   "execution_count": 59,
   "id": "88ae6fb3",
   "metadata": {},
   "outputs": [],
   "source": [
    "nofhd_traj_counts = sub_level_estimates.loc[sub_level_estimates.dep_immed == 0,:].groupby(['traj_class']).SDAN.count().values\n",
    "nofhd_traj_freqs = nofhd_traj_counts/ nofhd_traj_counts.sum()\n",
    "fhd_traj_counts = sub_level_estimates.loc[sub_level_estimates.dep_immed == 1,:].groupby(['traj_class']).SDAN.count().values\n",
    "fhd_traj_freqs = fhd_traj_counts / fhd_traj_counts.sum()"
   ]
  },
  {
   "cell_type": "code",
   "execution_count": 60,
   "id": "6935ab8a",
   "metadata": {},
   "outputs": [
    {
     "data": {
      "text/plain": [
       "Power_divergenceResult(statistic=0.03842836074241033, pvalue=0.9809692353861094)"
      ]
     },
     "execution_count": 60,
     "metadata": {},
     "output_type": "execute_result"
    }
   ],
   "source": [
    "stats.chisquare(nofhd_traj_freqs, fhd_traj_freqs)"
   ]
  },
  {
   "cell_type": "code",
   "execution_count": 50,
   "id": "437fde6a",
   "metadata": {},
   "outputs": [
    {
     "data": {
      "text/plain": [
       "array([ 7, 12, 14])"
      ]
     },
     "execution_count": 50,
     "metadata": {},
     "output_type": "execute_result"
    }
   ],
   "source": [
    "nofhd_traj"
   ]
  },
  {
   "cell_type": "code",
   "execution_count": null,
   "id": "59cb3e92",
   "metadata": {},
   "outputs": [],
   "source": []
  }
 ],
 "metadata": {
  "kernelspec": {
   "display_name": "Python 3 (ipykernel)",
   "language": "python",
   "name": "python3"
  },
  "language_info": {
   "codemirror_mode": {
    "name": "ipython",
    "version": 3
   },
   "file_extension": ".py",
   "mimetype": "text/x-python",
   "name": "python",
   "nbconvert_exporter": "python",
   "pygments_lexer": "ipython3",
   "version": "3.8.10"
  }
 },
 "nbformat": 4,
 "nbformat_minor": 5
}
